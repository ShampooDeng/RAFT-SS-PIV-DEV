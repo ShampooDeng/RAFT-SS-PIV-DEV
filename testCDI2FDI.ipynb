{
 "cells": [
  {
   "cell_type": "code",
   "execution_count": 1,
   "metadata": {},
   "outputs": [],
   "source": [
    "import numpy as np\n",
    "import cv2"
   ]
  },
  {
   "cell_type": "code",
   "execution_count": 1,
   "metadata": {},
   "outputs": [],
   "source": [
    "def remap(img, x, y):\n",
    "    x, y = np.float32(x), np.float32(y)\n",
    "    out = cv2.remap(img, x, y, cv2.INTER_LINEAR)  # INTER_LANCZOS4 INTER_CUBIC INTER_LINEAR\n",
    "    return out\n",
    "\n",
    "def cdi2fdi(u_cdi, v_cdi, delta=1):\n",
    "    assert u_cdi.shape == v_cdi.shape\n",
    "    # shape[0]:height, shape[1]:width\n",
    "    y, x = np.meshgrid(np.arange(u_cdi.shape[0]), np.arange(u_cdi.shape[1]),indexing='ij')\n",
    "    u_c, v_c = u_cdi/delta, v_cdi/delta\n",
    "    \n",
    "    # init fdi field for later process\n",
    "    u_f = remap(u_c, x+0.5*u_c, y+0.5*v_c)\n",
    "    v_f = remap(v_c, x+0.5*u_c, y+0.5*v_c)\n",
    "    \n",
    "    # solve 'Vcdi[x + 1/2Vfdi(x)] = Vfdi(x)' via iteration\n",
    "    for _ in range(5):\n",
    "        u_f = remap(u_c, x+0.5*u_f, y+0.5*v_f)\n",
    "        v_f = remap(v_c, x+0.5*u_f, y+0.5*v_f)\n",
    "    u_f, v_f = delta*u_f, delta*v_f\n",
    "    return u_f, v_f"
   ]
  }
 ],
 "metadata": {
  "kernelspec": {
   "display_name": "torch",
   "language": "python",
   "name": "python3"
  },
  "language_info": {
   "codemirror_mode": {
    "name": "ipython",
    "version": 3
   },
   "file_extension": ".py",
   "mimetype": "text/x-python",
   "name": "python",
   "nbconvert_exporter": "python",
   "pygments_lexer": "ipython3",
   "version": "3.10.8"
  },
  "orig_nbformat": 4
 },
 "nbformat": 4,
 "nbformat_minor": 2
}
