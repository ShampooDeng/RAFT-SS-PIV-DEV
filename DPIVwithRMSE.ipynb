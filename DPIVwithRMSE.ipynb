{
 "cells": [
  {
   "cell_type": "code",
   "execution_count": 1,
   "metadata": {},
   "outputs": [],
   "source": [
    "import numpy as np"
   ]
  },
  {
   "cell_type": "code",
   "execution_count": 29,
   "metadata": {},
   "outputs": [],
   "source": [
    "path = './results/lamb-oseen/DiffeomorphicPIV.npz'\n",
    "data = np.load(path)\n",
    "preds= data['preds']\n",
    "gts = data['gts']"
   ]
  },
  {
   "cell_type": "code",
   "execution_count": 30,
   "metadata": {},
   "outputs": [
    {
     "data": {
      "text/plain": [
       "[0.031154793,\n",
       " 0.033156455,\n",
       " 0.03027756,\n",
       " 0.02766273,\n",
       " 0.02171331,\n",
       " 0.019802518,\n",
       " 0.022994354,\n",
       " 0.025627652,\n",
       " 0.028311998,\n",
       " 0.033867616]"
      ]
     },
     "execution_count": 30,
     "metadata": {},
     "output_type": "execute_result"
    }
   ],
   "source": [
    "def computeRMSE(pred, gt):\n",
    "    # RSME = np.sqrt(np.mean(np.sum(np.square(pred - gt),axis=1),axis=(1,2)))\n",
    "    RSME = np.sqrt(np.mean(np.sum(np.square(pred - gt),axis=1),axis=(-2,-1)))\n",
    "    \n",
    "    return RSME.mean()\n",
    "\n",
    "# pred = preds[0]\n",
    "# gt = gts[0]\n",
    "# rmse = computeRMSE(pred, gt)\n",
    "\n",
    "rmseList = []\n",
    "for i in range(gts.shape[0]):\n",
    "    pred = preds[i][:,:,10:245,10:245]\n",
    "    gt = gts[i][:,:,10:245,10:245]\n",
    "    \n",
    "    rmse = computeRMSE(pred,gt)\n",
    "    rmseList.append(rmse)\n",
    "\n",
    "rmseList"
   ]
  },
  {
   "cell_type": "code",
   "execution_count": null,
   "metadata": {},
   "outputs": [],
   "source": []
  }
 ],
 "metadata": {
  "kernelspec": {
   "display_name": "torch-cupy",
   "language": "python",
   "name": "python3"
  },
  "language_info": {
   "codemirror_mode": {
    "name": "ipython",
    "version": 3
   },
   "file_extension": ".py",
   "mimetype": "text/x-python",
   "name": "python",
   "nbconvert_exporter": "python",
   "pygments_lexer": "ipython3",
   "version": "3.9.16"
  },
  "orig_nbformat": 4
 },
 "nbformat": 4,
 "nbformat_minor": 2
}
